{
 "cells": [
  {
   "cell_type": "code",
   "execution_count": 1,
   "id": "59819c33",
   "metadata": {},
   "outputs": [
    {
     "name": "stdout",
     "output_type": "stream",
     "text": [
      "/Users/dmarx/proj/chat2obs/src\n"
     ]
    }
   ],
   "source": [
    "import sys\n",
    "from pathlib import Path\n",
    "import json\n",
    "PATH=str((Path().cwd().parent /'src').absolute())\n",
    "print(PATH)\n",
    "if PATH not in sys.path:\n",
    "    sys.path.append(PATH)"
   ]
  },
  {
   "cell_type": "code",
   "execution_count": 2,
   "id": "616a2542",
   "metadata": {},
   "outputs": [],
   "source": [
    "root = \"../data/ingestion/chatgpt/a40ff5f79c1b3edd3c366f0f628fb79170bae83ecf3a1758b5b258c71f843f53-2025-06-05-03-28-15-df2ed357a4e64443bf464446686c9692/\"\n",
    "fpath = Path(root) / \"conversations.json\"\n",
    "convs = json.load(fpath.open())"
   ]
  },
  {
   "cell_type": "code",
   "execution_count": 5,
   "id": "2fe672d2",
   "metadata": {},
   "outputs": [],
   "source": [
    "from conversation_tagger import create_default_tagger\n",
    "\n",
    "tagger = create_default_tagger()\n",
    "tagged_results = [tagger.tag_conversation(c) for c in convs]"
   ]
  },
  {
   "cell_type": "code",
   "execution_count": 6,
   "id": "73e0be31",
   "metadata": {},
   "outputs": [
    {
     "name": "stdout",
     "output_type": "stream",
     "text": [
      "[Tag('has_web_search', {}), Tag('conversation_length', {'count': 5, 'category': 'medium'}), Tag('conversation_has_web_search', {'exchange_count': 3, 'total_exchanges': 5, 'percentage': 60.0})]\n",
      "[Tag('has_web_search', {}), Tag('has_reasoning_thoughts', {}), Tag('assistant_has_reasoning', {}), Tag('conversation_length', {'count': 5, 'category': 'medium'}), Tag('conversation_has_web_search', {'exchange_count': 4, 'total_exchanges': 5, 'percentage': 80.0}), Tag('conversation_has_reasoning_thoughts', {'exchange_count': 4, 'total_exchanges': 5, 'percentage': 80.0})]\n",
      "[Tag('has_web_search', {}), Tag('first_user_has_code_patterns', {}), Tag('has_reasoning_thoughts', {}), Tag('assistant_has_reasoning', {}), Tag('conversation_length', {'count': 21, 'category': 'long'}), Tag('conversation_has_web_search', {'exchange_count': 9, 'total_exchanges': 21, 'percentage': 42.9}), Tag('conversation_has_reasoning_thoughts', {'exchange_count': 13, 'total_exchanges': 21, 'percentage': 61.9})]\n",
      "[Tag('first_user_has_code_patterns', {}), Tag('has_reasoning_thoughts', {}), Tag('assistant_has_reasoning', {}), Tag('first_user_has_large_content', {}), Tag('has_canvas_operations', {}), Tag('conversation_length', {'count': 24, 'category': 'long'}), Tag('conversation_has_reasoning_thoughts', {'exchange_count': 10, 'total_exchanges': 24, 'percentage': 41.7}), Tag('conversation_has_canvas_operations', {'exchange_count': 4, 'total_exchanges': 24, 'percentage': 16.7})]\n",
      "[Tag('has_code_blocks', {}), Tag('has_code_structure_patterns', {}), Tag('first_user_has_large_content', {}), Tag('first_user_has_code_patterns', {}), Tag('has_reasoning_thoughts', {}), Tag('assistant_has_reasoning', {}), Tag('conversation_length', {'count': 4, 'category': 'medium'}), Tag('conversation_has_code_blocks', {'exchange_count': 2, 'total_exchanges': 4, 'percentage': 50.0}), Tag('conversation_has_code_structure_patterns', {'exchange_count': 2, 'total_exchanges': 4, 'percentage': 50.0}), Tag('conversation_has_reasoning_thoughts', {'exchange_count': 2, 'total_exchanges': 4, 'percentage': 50.0})]\n",
      "[Tag('has_code_blocks', {}), Tag('first_user_has_large_content', {}), Tag('first_user_has_code_patterns', {}), Tag('has_reasoning_thoughts', {}), Tag('assistant_has_reasoning', {}), Tag('has_script_headers', {}), Tag('conversation_length', {'count': 10, 'category': 'medium'}), Tag('conversation_has_code_blocks', {'exchange_count': 5, 'total_exchanges': 10, 'percentage': 50.0}), Tag('conversation_has_reasoning_thoughts', {'exchange_count': 6, 'total_exchanges': 10, 'percentage': 60.0}), Tag('conversation_has_script_headers', {'exchange_count': 1, 'total_exchanges': 10, 'percentage': 10.0})]\n",
      "[Tag('has_web_search', {}), Tag('has_reasoning_thoughts', {}), Tag('has_code_blocks', {}), Tag('has_script_headers', {}), Tag('assistant_has_reasoning', {}), Tag('conversation_length', {'count': 3, 'category': 'short'}), Tag('conversation_has_web_search', {'exchange_count': 2, 'total_exchanges': 3, 'percentage': 66.7}), Tag('conversation_has_reasoning_thoughts', {'exchange_count': 2, 'total_exchanges': 3, 'percentage': 66.7}), Tag('conversation_has_code_blocks', {'exchange_count': 1, 'total_exchanges': 3, 'percentage': 33.3}), Tag('conversation_has_script_headers', {'exchange_count': 1, 'total_exchanges': 3, 'percentage': 33.3})]\n",
      "[Tag('has_web_search', {}), Tag('has_reasoning_thoughts', {}), Tag('assistant_has_reasoning', {}), Tag('has_code_blocks', {}), Tag('conversation_length', {'count': 8, 'category': 'medium'}), Tag('conversation_has_web_search', {'exchange_count': 7, 'total_exchanges': 8, 'percentage': 87.5}), Tag('conversation_has_reasoning_thoughts', {'exchange_count': 6, 'total_exchanges': 8, 'percentage': 75.0}), Tag('conversation_has_code_blocks', {'exchange_count': 1, 'total_exchanges': 8, 'percentage': 12.5})]\n",
      "[Tag('has_web_search', {}), Tag('has_reasoning_thoughts', {}), Tag('assistant_has_reasoning', {}), Tag('conversation_length', {'count': 4, 'category': 'medium'}), Tag('conversation_has_web_search', {'exchange_count': 2, 'total_exchanges': 4, 'percentage': 50.0}), Tag('conversation_has_reasoning_thoughts', {'exchange_count': 2, 'total_exchanges': 4, 'percentage': 50.0})]\n",
      "[Tag('has_web_search', {}), Tag('has_reasoning_thoughts', {}), Tag('assistant_has_reasoning', {}), Tag('conversation_length', {'count': 4, 'category': 'medium'}), Tag('conversation_has_web_search', {'exchange_count': 2, 'total_exchanges': 4, 'percentage': 50.0}), Tag('conversation_has_reasoning_thoughts', {'exchange_count': 2, 'total_exchanges': 4, 'percentage': 50.0})]\n",
      "[Tag('conversation_length', {'count': 2, 'category': 'short'})]\n",
      "[Tag('has_wiki_links', {}), Tag('exchange_uses_gizmo_plugin', {}), Tag('has_web_search', {}), Tag('has_code_structure_patterns', {}), Tag('has_latex_math', {}), Tag('conversation_length', {'count': 3, 'category': 'short'}), Tag('conversation_has_wiki_links', {'exchange_count': 2, 'total_exchanges': 3, 'percentage': 66.7}), Tag('conversation_has_web_search', {'exchange_count': 1, 'total_exchanges': 3, 'percentage': 33.3}), Tag('conversation_has_code_structure_patterns', {'exchange_count': 1, 'total_exchanges': 3, 'percentage': 33.3}), Tag('conversation_has_latex_math', {'exchange_count': 1, 'total_exchanges': 3, 'percentage': 33.3})]\n"
     ]
    }
   ],
   "source": [
    "for i, tr in enumerate(tagged_results):\n",
    "    print(tr.tags)\n",
    "    if i > 10:\n",
    "        break   \n"
   ]
  },
  {
   "cell_type": "code",
   "execution_count": null,
   "id": "7436c81a",
   "metadata": {},
   "outputs": [],
   "source": []
  }
 ],
 "metadata": {
  "kernelspec": {
   "display_name": ".venv",
   "language": "python",
   "name": "python3"
  },
  "language_info": {
   "codemirror_mode": {
    "name": "ipython",
    "version": 3
   },
   "file_extension": ".py",
   "mimetype": "text/x-python",
   "name": "python",
   "nbconvert_exporter": "python",
   "pygments_lexer": "ipython3",
   "version": "3.12.3"
  }
 },
 "nbformat": 4,
 "nbformat_minor": 5
}
